{
 "cells": [
  {
   "cell_type": "markdown",
   "metadata": {},
   "source": [
    "## Setup"
   ]
  },
  {
   "cell_type": "code",
   "execution_count": 1,
   "metadata": {},
   "outputs": [],
   "source": [
    "import matplotlib.pyplot as plt\n",
    "import numpy as np\n",
    "\n",
    "import os\n",
    "os.environ['TF_CPP_MIN_LOG_LEVEL'] = '3' \n",
    "\n",
    "import tensorflow as tf\n",
    "from tensorflow.keras import metrics\n",
    "from tensorflow.keras.applications import resnet\n",
    "\n",
    "target_shape = (200, 200)"
   ]
  },
  {
   "cell_type": "code",
   "execution_count": 2,
   "metadata": {},
   "outputs": [],
   "source": [
    "def preprocess_image(filename):\n",
    "    \"\"\"\n",
    "    Load the specified file as a JPEG image, preprocess it and\n",
    "    resize it to the target shape.\n",
    "    \"\"\"\n",
    "\n",
    "    image_string = tf.io.read_file(filename)\n",
    "    image = tf.image.decode_jpeg(image_string, channels=3)\n",
    "    image = tf.image.convert_image_dtype(image, tf.float32)\n",
    "    image = tf.image.resize(image, target_shape)\n",
    "    return image"
   ]
  },
  {
   "cell_type": "markdown",
   "metadata": {},
   "source": [
    "## Load the test-dataset"
   ]
  },
  {
   "cell_type": "code",
   "execution_count": 3,
   "metadata": {},
   "outputs": [
    {
     "data": {
      "text/plain": [
       "['test/test-dog0.jpg', 'test/test-dog1.jpg', 'test/test-cat0.jpg']"
      ]
     },
     "execution_count": 3,
     "metadata": {},
     "output_type": "execute_result"
    }
   ],
   "source": [
    "dir = \"test/\"\n",
    "dog0 = dir + \"test-dog0.jpg\"\n",
    "dog1 = dir + \"test-dog1.jpg\"\n",
    "cat0 = dir + \"test-cat0.jpg\"\n",
    "\n",
    "test_imgs = [dog0, dog1, cat0]\n",
    "test_imgs"
   ]
  },
  {
   "cell_type": "code",
   "execution_count": 4,
   "metadata": {},
   "outputs": [
    {
     "name": "stdout",
     "output_type": "stream",
     "text": [
      "Metal device set to: Apple M1\n",
      "\n",
      "systemMemory: 8.00 GB\n",
      "maxCacheSize: 2.67 GB\n",
      "\n"
     ]
    },
    {
     "data": {
      "text/plain": [
       "(3, 200, 200, 3)"
      ]
     },
     "execution_count": 4,
     "metadata": {},
     "output_type": "execute_result"
    }
   ],
   "source": [
    "# read images\n",
    "imgs = np.array([preprocess_image(test_img) for test_img in test_imgs])\n",
    "imgs.shape"
   ]
  },
  {
   "cell_type": "code",
   "execution_count": 16,
   "metadata": {},
   "outputs": [],
   "source": [
    "# visualize\n",
    "fig, ax = plt.subplots(1, 3, figsize=(10, 6))\n",
    "\n",
    "ax[0].imshow(imgs[0])\n",
    "ax[0].set_axis_off()\n",
    "ax[1].imshow(imgs[1])\n",
    "ax[1].set_axis_off()\n",
    "ax[2].imshow(imgs[2])\n",
    "ax[2].set_axis_off()\n",
    "\n",
    "plt.show()\n"
   ]
  },
  {
   "cell_type": "markdown",
   "metadata": {},
   "source": [
    "## Load the model"
   ]
  },
  {
   "cell_type": "code",
   "execution_count": 5,
   "metadata": {},
   "outputs": [
    {
     "name": "stdout",
     "output_type": "stream",
     "text": [
      "WARNING:tensorflow:No training configuration found in the save file, so the model was *not* compiled. Compile it manually.\n"
     ]
    }
   ],
   "source": [
    "embeddings = tf.keras.models.load_model(\"siamesenetwork.h5\")"
   ]
  },
  {
   "cell_type": "markdown",
   "metadata": {},
   "source": [
    "After loading the model, let's generate embedding for our toy testset."
   ]
  },
  {
   "cell_type": "code",
   "execution_count": 6,
   "metadata": {},
   "outputs": [
    {
     "name": "stdout",
     "output_type": "stream",
     "text": [
      "embeddings shape: (3, 256)\n"
     ]
    }
   ],
   "source": [
    "imgs_emb = embeddings(imgs)\n",
    "\n",
    "print(\"embeddings shape:\", imgs_emb.shape)"
   ]
  },
  {
   "cell_type": "markdown",
   "metadata": {},
   "source": [
    "Now, lets meature the similarity between test samples using cosin metric."
   ]
  },
  {
   "cell_type": "code",
   "execution_count": 7,
   "metadata": {},
   "outputs": [
    {
     "name": "stdout",
     "output_type": "stream",
     "text": [
      "Positive similarity: 0.9991517\n"
     ]
    }
   ],
   "source": [
    "cosine_similarity = metrics.CosineSimilarity()\n",
    "\n",
    "# dog0 - to - dog1 distance\n",
    "positive_similarity = cosine_similarity(imgs_emb[0], imgs_emb[1])\n",
    "print(\"Positive similarity:\", positive_similarity.numpy())"
   ]
  },
  {
   "cell_type": "code",
   "execution_count": 8,
   "metadata": {},
   "outputs": [
    {
     "name": "stdout",
     "output_type": "stream",
     "text": [
      "Negative similarity: 0.9981737\n"
     ]
    }
   ],
   "source": [
    "# dog0 - to - cat0 distance\n",
    "negative_similarity = cosine_similarity(imgs_emb[0], imgs_emb[2])\n",
    "print(\"Negative similarity:\", negative_similarity.numpy())"
   ]
  },
  {
   "cell_type": "code",
   "execution_count": 9,
   "metadata": {},
   "outputs": [
    {
     "name": "stdout",
     "output_type": "stream",
     "text": [
      "Negative similarity: 0.9976926\n"
     ]
    }
   ],
   "source": [
    "# dog1 - to - cat0 distance\n",
    "negative_similarity = cosine_similarity(imgs_emb[1], imgs_emb[2])\n",
    "print(\"Negative similarity:\", negative_similarity.numpy())"
   ]
  },
  {
   "cell_type": "code",
   "execution_count": 10,
   "metadata": {},
   "outputs": [
    {
     "name": "stdout",
     "output_type": "stream",
     "text": [
      "Delta diffence between positive and negative samples: True 0.0014591217\n"
     ]
    }
   ],
   "source": [
    "delta = positive_similarity.numpy() - negative_similarity.numpy()\n",
    "print(\"Delta diffence between positive and negative samples:\", delta > 0, delta)"
   ]
  },
  {
   "cell_type": "markdown",
   "metadata": {},
   "source": [
    "### Conclution:\n",
    "    Delt must be a positive number.\n",
    "\n",
    "To do:\n",
    "- Train model with much data.\n",
    "- Train for longer time."
   ]
  },
  {
   "cell_type": "code",
   "execution_count": null,
   "metadata": {},
   "outputs": [],
   "source": []
  }
 ],
 "metadata": {
  "kernelspec": {
   "display_name": "Python 3 (ipykernel)",
   "language": "python",
   "name": "python3"
  },
  "language_info": {
   "codemirror_mode": {
    "name": "ipython",
    "version": 3
   },
   "file_extension": ".py",
   "mimetype": "text/x-python",
   "name": "python",
   "nbconvert_exporter": "python",
   "pygments_lexer": "ipython3",
   "version": "3.9.16"
  }
 },
 "nbformat": 4,
 "nbformat_minor": 2
}
